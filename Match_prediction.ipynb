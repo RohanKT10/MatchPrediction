{
 "cells": [
  {
   "cell_type": "code",
   "execution_count": 1,
   "id": "302003c9-4cec-4837-ad1c-d5f7d07b6cbe",
   "metadata": {},
   "outputs": [],
   "source": [
    "import pandas as pd\n",
    "import numpy as np\n",
    "from sklearn.model_selection import train_test_split\n",
    "from sklearn.ensemble import RandomForestClassifier\n",
    "from sklearn.metrics import accuracy_score, confusion_matrix"
   ]
  },
  {
   "cell_type": "code",
   "execution_count": 4,
   "id": "be68f6df-fb6e-4d88-9865-d64b0451a4f4",
   "metadata": {},
   "outputs": [],
   "source": [
    "# Load data\n",
    "matches_df = pd.read_csv('matches.csv')\n",
    "deliveries_df = pd.read_csv('deliveries.csv')"
   ]
  },
  {
   "cell_type": "code",
   "execution_count": 5,
   "id": "df436468-9c2d-4ade-be9b-f86750d147cc",
   "metadata": {},
   "outputs": [],
   "source": [
    "# Step 1: Feature Engineering\n",
    "# Toss winner feature\n",
    "matches_df['toss_winner_is_team1'] = (matches_df['toss_winner'] == matches_df['team1']).astype(int)\n",
    "\n",
    "# Head-to-head win ratio\n",
    "def head_to_head_win_ratio(matches, team1, team2):\n",
    "    h2h_matches = matches[((matches['team1'] == team1) & (matches['team2'] == team2)) |\n",
    "                          ((matches['team1'] == team2) & (matches['team2'] == team1))]\n",
    "    team1_wins = h2h_matches[h2h_matches['winner'] == team1].shape[0]\n",
    "    team2_wins = h2h_matches[h2h_matches['winner'] == team2].shape[0]\n",
    "    return team1_wins / (team1_wins + team2_wins) if (team1_wins + team2_wins) > 0 else 0\n",
    "\n",
    "matches_df['team1_win_ratio'] = matches_df.apply(\n",
    "    lambda x: head_to_head_win_ratio(matches_df, x['team1'], x['team2']), axis=1\n",
    ")\n",
    "\n",
    "# Drop rows with missing target variable\n",
    "matches_df = matches_df.dropna(subset=['winner'])\n",
    "\n",
    "# Map target variable to binary: 1 if team1 wins, 0 otherwise\n",
    "matches_df['target'] = (matches_df['winner'] == matches_df['team1']).astype(int)"
   ]
  },
  {
   "cell_type": "code",
   "execution_count": 6,
   "id": "7d99001a-689d-4749-a30a-e126cc4b212a",
   "metadata": {},
   "outputs": [],
   "source": [
    "# Step 2: Prepare Data for Training\n",
    "features = ['toss_winner_is_team1', 'team1_win_ratio']\n",
    "X = matches_df[features]\n",
    "y = matches_df['target']\n",
    "\n",
    "# Split data into train and test sets\n",
    "X_train, X_test, y_train, y_test = train_test_split(X, y, test_size=0.10, random_state=42)"
   ]
  },
  {
   "cell_type": "code",
   "execution_count": 7,
   "id": "6a12ed26-f3ab-4777-8119-4505bf212a3a",
   "metadata": {},
   "outputs": [
    {
     "name": "stdout",
     "output_type": "stream",
     "text": [
      "Accuracy: 0.6330275229357798\n",
      "Confusion Matrix:\n",
      " [[26 23]\n",
      " [17 43]]\n"
     ]
    }
   ],
   "source": [
    "# Step 3: Train the Random Forest Model\n",
    "rf_model = RandomForestClassifier(n_estimators=100,max_depth=5,min_samples_split=2,min_samples_leaf=2,random_state=42)      \n",
    "rf_model.fit(X_train, y_train)\n",
    "\n",
    "# Step 4: Evaluate the Model\n",
    "y_pred = rf_model.predict(X_test)\n",
    "print(\"Accuracy:\", accuracy_score(y_test, y_pred))\n",
    "print(\"Confusion Matrix:\\n\", confusion_matrix(y_test, y_pred))"
   ]
  },
  {
   "cell_type": "code",
   "execution_count": 8,
   "id": "3775110a-b874-4b3b-b21d-aa2a66570e5d",
   "metadata": {},
   "outputs": [],
   "source": [
    "# Step 5: Prediction Function\n",
    "def predict_match_winner(team1, team2, toss_winner):\n",
    "    # Calculate head-to-head win ratio for the input teams\n",
    "    win_ratio = head_to_head_win_ratio(matches_df, team1, team2)\n",
    "    \n",
    "    # Determine toss_winner_is_team1\n",
    "    toss_winner_is_team1 = 1 if toss_winner == team1 else 0\n",
    "    \n",
    "    # Prepare input features for the model\n",
    "    input_features = pd.DataFrame({\n",
    "        'toss_winner_is_team1': [toss_winner_is_team1],\n",
    "        'team1_win_ratio': [win_ratio]\n",
    "    })\n",
    "    \n",
    "    # Predict winner\n",
    "    prediction = rf_model.predict(input_features)\n",
    "    predicted_winner = team1 if prediction[0] == 1 else team2\n",
    "    return predicted_winner"
   ]
  },
  {
   "cell_type": "code",
   "execution_count": 9,
   "id": "9091aeac-4431-4c29-a9e7-300e9f223a89",
   "metadata": {},
   "outputs": [
    {
     "name": "stdout",
     "output_type": "stream",
     "text": [
      "Predicted Winner: Chennai Super Kings\n"
     ]
    }
   ],
   "source": [
    "# Example Usage\n",
    "team1 = 'Chennai Super Kings'\n",
    "team2 = 'Kolkata Knight Riders'\n",
    "toss_winner = 'Kolkata Knight Riders'\n",
    "\n",
    "predicted_winner = predict_match_winner(team1, team2, toss_winner)\n",
    "print(f\"Predicted Winner: {predicted_winner}\")"
   ]
  },
  {
   "cell_type": "code",
   "execution_count": 10,
   "id": "de02e5bd-8ed8-4cb6-b2d4-c03abb9d0068",
   "metadata": {},
   "outputs": [
    {
     "data": {
      "text/plain": [
       "['cricket_match_predictor_model.pkl']"
      ]
     },
     "execution_count": 10,
     "metadata": {},
     "output_type": "execute_result"
    }
   ],
   "source": [
    "import joblib\n",
    "\n",
    "# Assuming 'rf_model' is your trained RandomForest model\n",
    "joblib.dump(rf_model, 'cricket_match_predictor_model.pkl')\n",
    "\n"
   ]
  },
  {
   "cell_type": "code",
   "execution_count": null,
   "id": "7457d10d-71fc-429a-a5a7-1928f823dd9c",
   "metadata": {},
   "outputs": [],
   "source": []
  }
 ],
 "metadata": {
  "kernelspec": {
   "display_name": "Python 3 (ipykernel)",
   "language": "python",
   "name": "python3"
  },
  "language_info": {
   "codemirror_mode": {
    "name": "ipython",
    "version": 3
   },
   "file_extension": ".py",
   "mimetype": "text/x-python",
   "name": "python",
   "nbconvert_exporter": "python",
   "pygments_lexer": "ipython3",
   "version": "3.11.7"
  }
 },
 "nbformat": 4,
 "nbformat_minor": 5
}
